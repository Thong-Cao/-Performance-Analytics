{
 "cells": [
  {
   "cell_type": "markdown",
   "metadata": {},
   "source": [
    "# Part A: Data Processing\n",
    "\n",
    "\n",
    "## Python Notebook for Part A (Data Processing)\n",
    "\n",
    "In this section, I used a Python notebook as the primary tool to implement the data processing tasks. The Pandas library was utilized to manipulate data frames, including checking for missing values, handling erroneous values, calculating derived columns, and performing joins and merges on multiple data frames. The final results were saved to an Excel file.\n"
   ]
  },
  {
   "cell_type": "code",
   "execution_count": 12,
   "metadata": {},
   "outputs": [
    {
     "name": "stdout",
     "output_type": "stream",
     "text": [
      "    User_id    order_id  Amount  Merchant_id Purchase_status  Revenue  \\\n",
      "0  21269588  4169517626  10,000           13             NaN      300   \n",
      "1  28097592  4170276686  20,000           13             NaN      600   \n",
      "2  47435144  4166729310  10,000           12             NaN      200   \n",
      "3  29080935  4174460303  10,000           13             NaN      300   \n",
      "4  14591075  4168216749  10,000           12             NaN      200   \n",
      "\n",
      "  ConvertedDate  Month Day_of_Week  Gender       Age Location First_tran_date  \\\n",
      "0    2020-01-01      1   Wednesday  Female       >37   Ha Noi      2018-12-11   \n",
      "1    2020-01-01      1   Wednesday  Female       >37   Ha Noi      2019-12-30   \n",
      "2    2020-01-01      1   Wednesday  Female  18_to_22   Ha Noi      2019-11-11   \n",
      "3    2020-01-01      1   Wednesday  Female  18_to_22   Ha Noi      2019-10-24   \n",
      "4    2020-01-01      1   Wednesday  Female  18_to_22    Other      2019-12-28   \n",
      "\n",
      "  Type_user  \n",
      "0   Current  \n",
      "1   Current  \n",
      "2   Current  \n",
      "3   Current  \n",
      "4   Current  \n",
      "13495\n",
      "  Merchant_name  Merchant_id  Rate_pct  Rate_pct_current_cashback  \\\n",
      "0       Viettel           12         2                          1   \n",
      "1      Mobifone           13         3                          2   \n",
      "2     Vinaphone           14         4                          3   \n",
      "3  Vietnamobile           15         4                          3   \n",
      "4       Gmobile           16         4                          3   \n",
      "\n",
      "   Rate_pct_propose_cashback  \n",
      "0                        0.0  \n",
      "1                        0.5  \n",
      "2                        1.0  \n",
      "3                        1.0  \n",
      "4                        1.0  \n",
      "5\n",
      "    User_id First_tran_date      Location       Age  Gender\n",
      "0  41654498      2018-05-02          HCMC  33_to_37    MALE\n",
      "1  51276281      2019-12-08  Other Cities   unknown    MALE\n",
      "2  49152375      2019-12-20  Other Cities  23_to_27    MALE\n",
      "3   5971050      2019-08-01          HCMC  28_to_32    MALE\n",
      "4  48134464      2019-08-23  Other Cities  18_to_22  FEMALE\n",
      "13428\n"
     ]
    }
   ],
   "source": [
    "# Loading data to DataFrame Pandas\n",
    "import pandas as pd\n",
    "\n",
    "file_path = 'Data.xlsx'\n",
    "transactions_df = pd.read_excel(file_path, sheet_name='Data Transactions')\n",
    "commission_df = pd.read_excel(file_path, sheet_name='Data Commission')\n",
    "user_info_df = pd.read_excel(file_path, sheet_name='Data User_Info')\n",
    "\n",
    "print(transactions_df.head())\n",
    "print(len(transactions_df))\n",
    "print(commission_df.head()) \n",
    "print(len(commission_df))\n",
    "print(user_info_df.head())\n",
    "print(len(user_info_df))\n",
    "\n"
   ]
  },
  {
   "cell_type": "markdown",
   "metadata": {},
   "source": [
    "### Task 1: Revenue and Revenue in Jan\n",
    "\n"
   ]
  },
  {
   "cell_type": "code",
   "execution_count": 4,
   "metadata": {},
   "outputs": [
    {
     "name": "stdout",
     "output_type": "stream",
     "text": [
      "13495\n",
      "Total revenue for January 2020: 1409827\n"
     ]
    }
   ],
   "source": [
    "revenue_list = []\n",
    "rate_by_merchant_id = {}\n",
    "\n",
    "for i in range(len(commission_df)):\n",
    "    rate_by_merchant_id[commission_df['Merchant_id'][i]] = int(commission_df['Rate_pct'][i])/100\n",
    "\n",
    "for i in range(len(transactions_df)):\n",
    "    revenue = int(int(transactions_df['Amount'][i].replace(\",\", \"\")) * rate_by_merchant_id[transactions_df['Merchant_id'][i]])\n",
    "    revenue_list.append(revenue)\n",
    "# Calculate the revenue for each transaction\n",
    "transactions_df['Revenue'] = revenue_list\n",
    "# Dataframe after caculated Revenue value\n",
    "print(len(transactions_df))\n",
    "# Calculate MoMo's total revenue in January 2020\n",
    "total_revenue_jan_2020 = 0\n",
    "for i in range(len(transactions_df)):\n",
    "    if (transactions_df['Date'][i] >= '2020-01-01') and (transactions_df['Date'][i] <= '2020-01-31'):\n",
    "        total_revenue_jan_2020 += transactions_df['Revenue'][i]\n",
    "print(f\"Total revenue for January 2020: {total_revenue_jan_2020}\")"
   ]
  },
  {
   "cell_type": "markdown",
   "metadata": {},
   "source": [
    "### Task 2: Most profitable month?"
   ]
  },
  {
   "cell_type": "code",
   "execution_count": 5,
   "metadata": {},
   "outputs": [
    {
     "name": "stdout",
     "output_type": "stream",
     "text": [
      "Created ConvertedDate column\n",
      "Have 0 invalid date in ConvertedDate column\n",
      "The month with the maximum revenue is: 9 with Revenue = 1702200\n"
     ]
    }
   ],
   "source": [
    "#Columns Date have 2 different format of the date\n",
    "invalid_date_count = 0\n",
    "for i in range(len(transactions_df)):\n",
    "    try:\n",
    "        transactions_df.loc[i, 'ConvertedDate'] = pd.to_datetime(transactions_df.loc[i, 'Date'], format='%Y-%m-%d')\n",
    "    except:\n",
    "        try:\n",
    "            transactions_df.loc[i, 'ConvertedDate'] = pd.to_datetime(transactions_df.loc[i, 'Date'], format='%d/%m/%Y')\n",
    "        except:\n",
    "            invalid_date_count += 1\n",
    "            print(transactions_df.loc[i, 'Date'])\n",
    "\n",
    "print(\"Created ConvertedDate column\")\n",
    "print(f\"Have {(invalid_date_count)} invalid date in ConvertedDate column\")\n",
    "transactions_df.drop('Date', axis=1, inplace=True)\n",
    "# Extract the month from valid dates\n",
    "transactions_df['Month'] = transactions_df['ConvertedDate'].dt.month\n",
    "\n",
    "\n",
    "# Find the maximum revenue\n",
    "# Group by 'Month' and sum revenue\n",
    "monthly_revenue = transactions_df.groupby('Month')['Revenue'].sum().reset_index()\n",
    "\n",
    "max_revenue = monthly_revenue['Revenue'].max()\n",
    "\n",
    "# Get the corresponding month using boolean indexing\n",
    "max_revenue_month = monthly_revenue[monthly_revenue['Revenue'] == max_revenue]['Month'].values[0]\n",
    "\n",
    "# Print the month with the maximum revenue\n",
    "print(f\"The month with the maximum revenue is: {max_revenue_month} with Revenue = {max_revenue}\")\n"
   ]
  },
  {
   "cell_type": "markdown",
   "metadata": {},
   "source": [
    "### Task 3: Day of week (most and least money):"
   ]
  },
  {
   "cell_type": "code",
   "execution_count": 6,
   "metadata": {},
   "outputs": [
    {
     "name": "stdout",
     "output_type": "stream",
     "text": [
      "The day with the maximum revenue is Wednesday with Reveue = 1482.535074987905\n",
      "The day with the min revenue is Monday with Reveue = 1304.437564499484\n",
      "13495\n"
     ]
    }
   ],
   "source": [
    "\n",
    "transactions_df['Day_of_Week'] = transactions_df['ConvertedDate'].dt.day_name()\n",
    "average_revenue_by_day = transactions_df.groupby('Day_of_Week')['Revenue'].mean().reset_index()\n",
    "\n",
    "max_revenue = average_revenue_by_day['Revenue'].max()\n",
    "min_revenue = average_revenue_by_day['Revenue'].min()\n",
    "# Get the corresponding month using boolean indexing\n",
    "max_revenue_day = average_revenue_by_day[average_revenue_by_day['Revenue'] == max_revenue]['Day_of_Week'].values[0]\n",
    "min_revenue_day = average_revenue_by_day[average_revenue_by_day['Revenue'] == min_revenue]['Day_of_Week'].values[0]\n",
    "# Print the month with the maximum revenue\n",
    "print(f\"The day with the maximum revenue is {max_revenue_day} with Reveue = {max_revenue}\")\n",
    "print(f\"The day with the min revenue is {min_revenue_day} with Reveue = {min_revenue}\")\n",
    "\n",
    "\n",
    "print(len(transactions_df))"
   ]
  },
  {
   "cell_type": "markdown",
   "metadata": {},
   "source": [
    "### Task 4: The total number of new users in December 2020.\n"
   ]
  },
  {
   "cell_type": "code",
   "execution_count": 7,
   "metadata": {},
   "outputs": [
    {
     "name": "stdout",
     "output_type": "stream",
     "text": [
      "Have 0 invalid date\n",
      "0 missing value in First_tran_date columns\n"
     ]
    }
   ],
   "source": [
    "# Remove duplicate rows based on 'User_id', keeping the last occurrence\n",
    "user_info_df_unique = user_info_df.drop_duplicates(subset=['User_id'], keep='last')\n",
    "\n",
    "# Merge the dataframes\n",
    "transactions_df = transactions_df.merge(user_info_df_unique[['User_id', 'Gender', 'Age', 'Location', 'First_tran_date']], on='User_id', how='inner')\n",
    "\n",
    "\n",
    "#Ensure 'First_tran_date' column is in datetime format\n",
    "invalid_date_count = 0\n",
    "for i in range(len(transactions_df)):\n",
    "    try:\n",
    "        transactions_df.loc[i, 'First_tran_date'] = pd.to_datetime(transactions_df.loc[i, 'First_tran_date'], format='%Y-%m-%d')\n",
    "    except:\n",
    "        invalid_year = transactions_df.loc[i, 'First_tran_date'][0:4]\n",
    "        if invalid_year [:2] == '99':\n",
    "            valid_year = invalid_year.replace('99','20')\n",
    "        else:\n",
    "            valid_year = invalid_year.replace('30','20')\n",
    "        valid_date = valid_year + transactions_df.loc[i, 'First_tran_date'][4:]\n",
    "        # print('Wrong Date: ', invalid_year)\n",
    "        # print('Fixed Date: ',valid_date)\n",
    "        try:\n",
    "            transactions_df.loc[i, 'First_tran_date'] = pd.to_datetime(valid_date, format='%Y-%m-%d')\n",
    "        except:\n",
    "            invalid_date_count += 1\n",
    "            print('Wrong Date: ',transactions_df.loc[i, 'First_tran_date'])\n",
    "\n",
    "print(f\"Have {(invalid_date_count)} invalid date\")\n",
    "# Check missing value in the First_tran_date column\n",
    "print(str(transactions_df['First_tran_date'].isnull().sum())+ ' missing value in First_tran_date columns')\n",
    "\n"
   ]
  },
  {
   "cell_type": "code",
   "execution_count": 8,
   "metadata": {},
   "outputs": [
    {
     "name": "stdout",
     "output_type": "stream",
     "text": [
      "Total new user in December 2020 is: 76\n"
     ]
    }
   ],
   "source": [
    "# Create Type_user columns\n",
    "transactions_df['Type_user'] = transactions_df.apply(\n",
    "    lambda row: 'New' if row['ConvertedDate'].year == row['First_tran_date'].year and row['ConvertedDate'].month == row['First_tran_date'].month else 'Current',\n",
    "    axis=1)\n",
    "dec_transactions = transactions_df[(transactions_df['ConvertedDate'] >= '2020-12-01') & (transactions_df['ConvertedDate'] <= '2020-12-31')]\n",
    "\n",
    "# Find the unique number of ner user in December 2020\n",
    "new_users_dec_2020 = dec_transactions[dec_transactions['Type_user'] == 'New']['User_id'].nunique()\n",
    "print('Total new user in December 2020 is:', new_users_dec_2020)"
   ]
  },
  {
   "cell_type": "code",
   "execution_count": 9,
   "metadata": {},
   "outputs": [],
   "source": [
    "# Function to standardize the Gender column\n",
    "def standardize_gender(gender):\n",
    "    if gender.lower() in ['f', 'female', 'nữ']:\n",
    "        return 'Female'\n",
    "    elif gender.lower() in ['m', 'male', 'nam']:\n",
    "        return 'Male'\n",
    "    else:\n",
    "        return 'Unknown'\n",
    "\n",
    "# Function to standardize the Location column\n",
    "def standardize_location(location):\n",
    "    if location in ['HN', 'Ha Noi']:\n",
    "        return 'Ha Noi'\n",
    "    elif location in ['HCMC', 'Ho Chi Minh City']:\n",
    "        return 'Ho Chi Minh City'\n",
    "    elif location in ['Other', 'Other Cities', 'Unknown']:\n",
    "        return 'Other'\n",
    "    else:\n",
    "        return location\n",
    "\n",
    "# Applying the functions to the dataframe\n",
    "transactions_df['Gender'] = transactions_df['Gender'].apply(standardize_gender)\n",
    "transactions_df['Location'] = transactions_df['Location'].apply(standardize_location)\n"
   ]
  },
  {
   "cell_type": "code",
   "execution_count": 11,
   "metadata": {},
   "outputs": [
    {
     "name": "stdout",
     "output_type": "stream",
     "text": [
      "0 missing value in Gender columns\n",
      "0 missing value in Location columns\n"
     ]
    }
   ],
   "source": [
    "print(str(transactions_df['Gender'].isnull().sum())+ ' missing value in Gender columns')\n",
    "print(str(transactions_df['Location'].isnull().sum())+ ' missing value in Location columns')"
   ]
  },
  {
   "cell_type": "code",
   "execution_count": 10,
   "metadata": {},
   "outputs": [],
   "source": [
    "# Save processed Data\n",
    "with pd.ExcelWriter(file_path, engine='openpyxl', mode='a', if_sheet_exists='replace') as writer:\n",
    "    transactions_df.to_excel(writer, sheet_name='Data Transactions')"
   ]
  }
 ],
 "metadata": {
  "kernelspec": {
   "display_name": "Python 3",
   "language": "python",
   "name": "python3"
  },
  "language_info": {
   "codemirror_mode": {
    "name": "ipython",
    "version": 3
   },
   "file_extension": ".py",
   "mimetype": "text/x-python",
   "name": "python",
   "nbconvert_exporter": "python",
   "pygments_lexer": "ipython3",
   "version": "3.11.3"
  }
 },
 "nbformat": 4,
 "nbformat_minor": 2
}
